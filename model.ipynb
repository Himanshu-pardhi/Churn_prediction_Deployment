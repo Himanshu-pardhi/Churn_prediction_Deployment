{
 "cells": [
  {
   "cell_type": "code",
   "execution_count": null,
   "metadata": {},
   "outputs": [],
   "source": [
    "# Installation of required libraries\n",
    "import pandas as pd\n",
    "import numpy as np\n",
    "\n",
    "import seaborn as sns\n",
    "import matplotlib.pyplot as plt\n",
    "\n",
    "from sklearn import preprocessing\n",
    "from sklearn.preprocessing import StandardScaler\n",
    "from sklearn.decomposition import PCA\n",
    "from sklearn.cluster import KMeans"
   ]
  },
  {
   "cell_type": "code",
   "execution_count": null,
   "metadata": {},
   "outputs": [],
   "source": [
    "# load the dataset as pandas dataframe\n",
    "# Note: Please update the path to your local file path for this to work\n",
    "df = pd.read_csv(r\" \")"
   ]
  },
  {
   "cell_type": "code",
   "execution_count": null,
   "metadata": {},
   "outputs": [],
   "source": [
    "# Drop last 2 columns of dataframe\n",
    "#df = df.iloc[: , :-2]\n",
    "df.drop(columns=df.columns[-2:], axis=1, inplace=True)\n",
    "df.head(5)"
   ]
  },
  {
   "cell_type": "code",
   "execution_count": null,
   "metadata": {},
   "outputs": [],
   "source": [
    "# replacing categorical column to numarical columns\n",
    "df['Attrition_Flag'].replace(['Existing Customer', 'Attrited Customer'],[1, 0], inplace=True)"
   ]
  },
  {
   "cell_type": "code",
   "execution_count": null,
   "metadata": {},
   "outputs": [],
   "source": [
    "# replacing categorical column to numarical columns using OneHotEncoder\n",
    "\n",
    "from sklearn.preprocessing import OneHotEncoder\n",
    "\n",
    "final_df = df\n",
    "categorical_columns = ['Gender', 'Education_Level', 'Marital_Status','Income_Category', 'Card_Category']\n",
    "for col in categorical_columns:\n",
    "    col_df = pd.get_dummies(df[col], prefix=col)\n",
    "    final_df = pd.concat((final_df, col_df), axis=1).drop(col, axis=1)"
   ]
  },
  {
   "cell_type": "code",
   "execution_count": null,
   "metadata": {},
   "outputs": [],
   "source": [
    "# select the features to use in models \n",
    "X = final_df[[ 'Credit_Limit','Total_Revolving_Bal','Months_Inactive_12_mon', 'Total_Trans_Amt' , \n",
    "              'Avg_Utilization_Ratio']] "
   ]
  },
  {
   "cell_type": "code",
   "execution_count": null,
   "metadata": {},
   "outputs": [],
   "source": [
    "# Elbow method to find optimal number of clusters\n",
    "from sklearn.pipeline import Pipeline\n",
    "wcss=[]\n",
    "for i in range(1,11):\n",
    "    pipe_elbow = Pipeline([\n",
    "        ('scaler', StandardScaler()),\n",
    "        ('pca', PCA(2)),\n",
    "        ('Kmeans', KMeans(n_clusters=i))\n",
    "    ])\n",
    "    pipe_elbow.fit(X)\n",
    "    wcss.append(pipe_elbow[-1].inertia_)\n",
    "\n",
    "plt.plot(range(1,11),wcss)"
   ]
  },
  {
   "cell_type": "code",
   "execution_count": null,
   "metadata": {},
   "outputs": [],
   "source": [
    "# pipe line to preform scaler, pca and Kmeans modeling in single step\n",
    "pipe_model = Pipeline([\n",
    "    ('scaler', StandardScaler()),\n",
    "    ('pca', PCA(2)),\n",
    "    ('Kmeans', KMeans(n_clusters=3))])\n",
    "y_means=pipe_model.fit_predict(X)"
   ]
  },
  {
   "cell_type": "code",
   "execution_count": null,
   "metadata": {},
   "outputs": [],
   "source": [
    "# ploting the clusters\n",
    "X_pca = pipe_model[:-1].transform(X)\n",
    "plt.scatter(X_pca[:,0],X_pca[:,1],c=y_means)"
   ]
  },
  {
   "cell_type": "code",
   "execution_count": null,
   "metadata": {},
   "outputs": [],
   "source": [
    "# calculating score of model\n",
    "from sklearn.metrics import silhouette_score\n",
    "score = silhouette_score(X_pca,pipe_model[-1].labels_,metric='euclidean')\n",
    "score"
   ]
  },
  {
   "cell_type": "code",
   "execution_count": null,
   "metadata": {},
   "outputs": [],
   "source": [
    "# save the pipeline to a file\n",
    "import joblib\n",
    "joblib.dump(pipe_model, 'pipe_model.joblib')"
   ]
  }
 ],
 "metadata": {
  "kernelspec": {
   "display_name": "Python 3.10.2 64-bit",
   "language": "python",
   "name": "python3"
  },
  "language_info": {
   "codemirror_mode": {
    "name": "ipython",
    "version": 3
   },
   "file_extension": ".py",
   "mimetype": "text/x-python",
   "name": "python",
   "nbconvert_exporter": "python",
   "pygments_lexer": "ipython3",
   "version": "3.10.2"
  },
  "orig_nbformat": 4,
  "vscode": {
   "interpreter": {
    "hash": "26de051ba29f2982a8de78e945f0abaf191376122a1563185a90213a26c5da77"
   }
  }
 },
 "nbformat": 4,
 "nbformat_minor": 2
}
