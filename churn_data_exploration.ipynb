{
 "cells": [
  {
   "cell_type": "code",
   "execution_count": null,
   "metadata": {},
   "outputs": [],
   "source": [
    "# Installation of required libraries\n",
    "import pandas as pd\n",
    "import numpy as np\n",
    "\n",
    "import seaborn as sns\n",
    "import matplotlib.pyplot as plt\n",
    "\n",
    "from sklearn import preprocessing\n",
    "from sklearn.cluster import KMeans"
   ]
  },
  {
   "cell_type": "markdown",
   "metadata": {},
   "source": [
    "Data Exploration"
   ]
  },
  {
   "cell_type": "code",
   "execution_count": null,
   "metadata": {},
   "outputs": [],
   "source": [
    "# to display all columns and rows:\n",
    "pd.set_option('display.max_columns', None); pd.set_option('display.max_rows', None);"
   ]
  },
  {
   "cell_type": "code",
   "execution_count": null,
   "metadata": {},
   "outputs": [],
   "source": [
    "# load the dataset as pandas dataframe\n",
    "# Note: Please update the path to your local file path for this to work\n",
    "df = pd.read_csv(r\" \")\n",
    "df.head()"
   ]
  },
  {
   "cell_type": "code",
   "execution_count": null,
   "metadata": {},
   "outputs": [],
   "source": [
    "# Drop last 2 columns of dataframe\n",
    "df.drop(columns=df.columns[-2:], axis=1, inplace=True)\n",
    "df.head()"
   ]
  },
  {
   "cell_type": "code",
   "execution_count": null,
   "metadata": {},
   "outputs": [],
   "source": [
    "# check size of the data set examined\n",
    "df.shape"
   ]
  },
  {
   "cell_type": "code",
   "execution_count": null,
   "metadata": {},
   "outputs": [],
   "source": [
    "# Feature information\n",
    "df.info()"
   ]
  },
  {
   "cell_type": "code",
   "execution_count": null,
   "metadata": {},
   "outputs": [],
   "source": [
    "# Check if there is any null values\n",
    "df.isnull().sum()"
   ]
  },
  {
   "cell_type": "code",
   "execution_count": null,
   "metadata": {},
   "outputs": [],
   "source": [
    "# The average of the age variable was taken according to the dependent variable\n",
    "df.groupby(\"Attrition_Flag\").agg(\"mean\")"
   ]
  },
  {
   "cell_type": "code",
   "execution_count": null,
   "metadata": {},
   "outputs": [],
   "source": [
    "# most left as per the gender variable\n",
    "df.groupby(\"Gender\").agg({\"Attrition_Flag\": \"count\"})"
   ]
  },
  {
   "cell_type": "code",
   "execution_count": null,
   "metadata": {},
   "outputs": [],
   "source": [
    "# check CLIENTNUM variable has unknown value\n",
    "(df[\"CLIENTNUM\"] == \"unknown\").count()"
   ]
  },
  {
   "cell_type": "code",
   "execution_count": null,
   "metadata": {},
   "outputs": [],
   "source": [
    "# dataset statistics for numaric variables\n",
    "df.describe()"
   ]
  },
  {
   "cell_type": "code",
   "execution_count": null,
   "metadata": {},
   "outputs": [],
   "source": [
    "# check the percentage of Existing  and Attrited customers\n",
    "(df['Attrition_Flag'].value_counts()/df['Attrition_Flag'].count())*100"
   ]
  },
  {
   "cell_type": "code",
   "execution_count": null,
   "metadata": {},
   "outputs": [],
   "source": [
    "# check the percentage of male and female for Attrition_Flag\n",
    "(df['Gender'].value_counts()/df['Attrition_Flag'].count())*100"
   ]
  },
  {
   "cell_type": "code",
   "execution_count": null,
   "metadata": {},
   "outputs": [],
   "source": [
    "# replacing categorical column to numarical columns\n",
    "df['Attrition_Flag'].replace(['Existing Customer', 'Attrited Customer'],[1, 0], inplace=True)"
   ]
  },
  {
   "cell_type": "code",
   "execution_count": null,
   "metadata": {},
   "outputs": [],
   "source": [
    "# replacing categorical column to numarical columns using OneHotEncoder\n",
    "from sklearn.preprocessing import OneHotEncoder\n",
    "final_df = df\n",
    "categorical_columns = ['Gender', 'Education_Level', 'Marital_Status','Income_Category', 'Card_Category']\n",
    "for col in categorical_columns:\n",
    "    col_df = pd.get_dummies(df[col], prefix=col)\n",
    "    final_df = pd.concat((final_df, col_df), axis=1).drop(col, axis=1)"
   ]
  },
  {
   "cell_type": "markdown",
   "metadata": {},
   "source": [
    "Data Visualization"
   ]
  },
  {
   "cell_type": "code",
   "execution_count": null,
   "metadata": {},
   "outputs": [],
   "source": [
    "# Plots to map the dependence of 'Attrition_Flag' column on categorical features\n",
    "import matplotlib.gridspec as gridspec\n",
    "\n",
    "fig = plt.figure(constrained_layout=False, figsize=(17, 20))\n",
    "spec = gridspec.GridSpec(ncols=2, nrows=3, figure = fig)\n",
    "ax1 = fig.add_subplot(spec[0, 0])\n",
    "ax2 = fig.add_subplot(spec[0, 1])\n",
    "ax3 = fig.add_subplot(spec[1, 0])\n",
    "ax4 = fig.add_subplot(spec[1, 1])\n",
    "ax5 = fig.add_subplot(spec[2, 0])\n",
    "ax6 = fig.add_subplot(spec[2, 1])\n",
    "\n",
    "# Attrition_Flag\n",
    "labels = df['Attrition_Flag'].value_counts().keys()\n",
    "ax1.pie(df['Attrition_Flag'].value_counts(),labels = labels,  autopct='%.1f%%',\n",
    "        shadow=True, wedgeprops={'edgecolor': 'black'})\n",
    "ax1.set_title('Proportion of Attrition_Flag')\n",
    "\n",
    "# Gender\n",
    "labels = df['Gender'].value_counts().keys()\n",
    "ax2.pie(df['Gender'].value_counts(),labels = labels,  autopct='%.1f%%',\n",
    "        shadow=True, wedgeprops={'edgecolor': 'black'})\n",
    "ax2.set_title('Proportion of Gender')\n",
    "\n",
    "# Education_Level\n",
    "sns.countplot(ax=ax3, x=df['Education_Level'])\n",
    "ax3.set_title('Education_Level of Customers')\n",
    "\n",
    "# Marital_Status \n",
    "sns.countplot(ax=ax4, x=df['Marital_Status'])\n",
    "ax4.set_title('Marital_Status of Customers')\n",
    "\n",
    "# Income_Category \n",
    "sns.countplot(ax=ax5, x=df['Income_Category'])\n",
    "ax5.set_title('Income_Category of Customers')              \n",
    "\n",
    "# Card_Category                 \n",
    "labels = df['Card_Category'].value_counts().keys()\n",
    "ax6.pie(df['Card_Category'].value_counts(),labels = labels,  autopct='%.1f%%',\n",
    "        shadow=True, wedgeprops={'edgecolor': 'black'})\n",
    "ax6.set_title('Proportion of Card_Category')"
   ]
  },
  {
   "cell_type": "code",
   "execution_count": null,
   "metadata": {},
   "outputs": [],
   "source": [
    "# Correlation Heatmaps\n",
    "plt.figure(figsize=(15,10))\n",
    "correlations = df.corr()\n",
    "sns.heatmap(round(correlations,2), cmap='RdBu', annot=True, \n",
    "            annot_kws={\"size\": 7}, vmin=-1, vmax=1);"
   ]
  }
 ],
 "metadata": {
  "kernelspec": {
   "display_name": "Python 3.10.2 64-bit",
   "language": "python",
   "name": "python3"
  },
  "language_info": {
   "codemirror_mode": {
    "name": "ipython",
    "version": 3
   },
   "file_extension": ".py",
   "mimetype": "text/x-python",
   "name": "python",
   "nbconvert_exporter": "python",
   "pygments_lexer": "ipython3",
   "version": "3.10.2"
  },
  "orig_nbformat": 4,
  "vscode": {
   "interpreter": {
    "hash": "26de051ba29f2982a8de78e945f0abaf191376122a1563185a90213a26c5da77"
   }
  }
 },
 "nbformat": 4,
 "nbformat_minor": 2
}
